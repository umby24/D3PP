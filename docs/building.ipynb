{
 "cells": [
  {
   "cell_type": "markdown",
   "source": [
    "# Building under Windows w/ MingGW"
   ],
   "metadata": {}
  },
  {
   "cell_type": "markdown",
   "source": [
    "1. Install VSCode, msys2 (x64)\r\n",
    "2. Install the winpthread library (pacman -S mingw-w64-clang-x86_64-libwinpthread-git)\r\n",
    "3. Install the dev zlib library (pacman -S zlib-devel)\r\n",
    "4. Install the CMake Library (pacman -S mingw-w64-x86_64-cmake)\r\n",
    "5. Install the Lua Library (pacman -S mingw-w64-x86_64-lua)\r\n",
    "6. Add msys mingw64 to your PATH.\r\n",
    "7. Open VSCode, install the CMake Tools and C++ Plugins.\r\n",
    "8. Open the command pallet (ctrl+shift-p), go to preferences: open settings.json, and enter the following (replacing for your path if different);\r\n",
    "```\r\n",
    "    \"cmake.cmakePath\": \"C:\\\\msys64\\\\mingw64\\\\bin\\\\cmake.exe\",\r\n",
    "    \"cmake.mingwSearchDirs\": [\"C:\\\\msys64\\\\mingw64\\\\bin\"],\r\n",
    "    \"cmake.generator\": \"MinGW Makefiles\",\r\n",
    "```\r\n",
    "9. Restart VS code\r\n",
    "10.  Clone the repo and open it\r\n",
    "11. Configure your C++ kits to GCC/Mingw32 (may require a manual scan)\r\n",
    "12. Press the build button!"
   ],
   "metadata": {}
  }
 ],
 "metadata": {
  "orig_nbformat": 4,
  "language_info": {
   "name": "plaintext"
  }
 },
 "nbformat": 4,
 "nbformat_minor": 2
}